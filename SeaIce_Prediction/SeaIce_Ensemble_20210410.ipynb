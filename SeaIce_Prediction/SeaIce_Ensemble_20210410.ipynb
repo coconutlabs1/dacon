{
  "nbformat": 4,
  "nbformat_minor": 0,
  "metadata": {
    "colab": {
      "name": "SeaIce_Ensenble_20210410.ipynb",
      "private_outputs": true,
      "provenance": [],
      "collapsed_sections": []
    },
    "kernelspec": {
      "name": "python3",
      "display_name": "Python 3"
    },
    "language_info": {
      "name": "python"
    }
  },
  "cells": [
    {
      "cell_type": "code",
      "metadata": {
        "id": "2uGgCWLzwKmN"
      },
      "source": [
        "import pandas as pd\n",
        "import numpy as np\n",
        "import matplotlib.pyplot as plt"
      ],
      "execution_count": null,
      "outputs": []
    },
    {
      "cell_type": "code",
      "metadata": {
        "id": "GQBzfTnPwZpx"
      },
      "source": [
        "from google.colab import drive\n",
        "\n",
        "drive.mount('/content/gdrive/')"
      ],
      "execution_count": null,
      "outputs": []
    },
    {
      "cell_type": "code",
      "metadata": {
        "id": "7X3_0y7lv066"
      },
      "source": [
        "DATA_PATH = '/content/gdrive/My Drive/DACON/sea_ice/data/train_v2.csv'\n",
        "DIR_PATH = '/content/gdrive/My Drive/DACON/sea_ice/data/'\n",
        "DIR_TRAIN_PATH = '/content/gdrive/My Drive/DACON/sea_ice/data/train_data_v2/'\n",
        "MODEL_PATH='/content/gdrive/My Drive/DACON/sea_ice/model/'\n",
        "SUBMISSION_PATH='/content/gdrive/My Drive/DACON/sea_ice/submission/'"
      ],
      "execution_count": null,
      "outputs": []
    },
    {
      "cell_type": "code",
      "metadata": {
        "id": "fsBMCpeiwB2n"
      },
      "source": [
        "submission_area1 = pd.read_csv(SUBMISSION_PATH+'ConvLSTM_area40_20210409.csv')"
      ],
      "execution_count": null,
      "outputs": []
    },
    {
      "cell_type": "code",
      "metadata": {
        "id": "umDdLvtRwMCV"
      },
      "source": [
        "submission_area2 = pd.read_csv(SUBMISSION_PATH+'ConvLSTM_area50_20210409.csv')"
      ],
      "execution_count": null,
      "outputs": []
    },
    {
      "cell_type": "code",
      "metadata": {
        "id": "26ev4wMU2Czg"
      },
      "source": [
        "submission_area1.shape, submission_area2.shape"
      ],
      "execution_count": null,
      "outputs": []
    },
    {
      "cell_type": "code",
      "metadata": {
        "id": "8vpKFwjmxnz6"
      },
      "source": [
        "np_sub1 = np.array(submission_area1)\n",
        "np_sub2 = np.array(submission_area2)"
      ],
      "execution_count": null,
      "outputs": []
    },
    {
      "cell_type": "code",
      "metadata": {
        "id": "t8fQPQbJ1C9i"
      },
      "source": [
        "np_sub1  = np_sub1[:24, 1:]\n",
        "np_sub2 = np_sub2[:24, 1:]"
      ],
      "execution_count": null,
      "outputs": []
    },
    {
      "cell_type": "code",
      "metadata": {
        "id": "kxa7XNRF1Mq5"
      },
      "source": [
        "np_sub1.shape, np_sub2.shape"
      ],
      "execution_count": null,
      "outputs": []
    },
    {
      "cell_type": "code",
      "metadata": {
        "id": "gWvG0jn50G31"
      },
      "source": [
        "results_area = np_sub1 * 0.5 + np_sub2 * 0.5"
      ],
      "execution_count": null,
      "outputs": []
    },
    {
      "cell_type": "code",
      "metadata": {
        "id": "8h-S7VMqxxU1"
      },
      "source": [
        "results_area.sum(), np_sub1.sum(), np_sub2.sum()"
      ],
      "execution_count": null,
      "outputs": []
    },
    {
      "cell_type": "code",
      "metadata": {
        "id": "Vl_-XMgpFi0N"
      },
      "source": [
        "submission_2 = pd.read_csv(SUBMISSION_PATH+'ConvLSTM_20210407.csv')"
      ],
      "execution_count": null,
      "outputs": []
    },
    {
      "cell_type": "code",
      "metadata": {
        "id": "lTdhXjJIF3BH"
      },
      "source": [
        "np_sub1 = np.array(results_area)\n",
        "np_sub2 = np.array(submission_2)\n",
        "np_sub2 = np_sub2[:24, 1:]"
      ],
      "execution_count": null,
      "outputs": []
    },
    {
      "cell_type": "code",
      "metadata": {
        "id": "UMht7b7cF3Er"
      },
      "source": [
        "np_sub1.shape, np_sub2.shape"
      ],
      "execution_count": null,
      "outputs": []
    },
    {
      "cell_type": "code",
      "metadata": {
        "id": "KG1cwigrGCIh"
      },
      "source": [
        "results_final = np_sub1 * 0.5 + np_sub2 * 0.5"
      ],
      "execution_count": null,
      "outputs": []
    },
    {
      "cell_type": "code",
      "metadata": {
        "id": "Eo_dxlu4GCRT"
      },
      "source": [
        "results_final.sum(), np_sub1.sum(), np_sub2.sum()"
      ],
      "execution_count": null,
      "outputs": []
    },
    {
      "cell_type": "code",
      "metadata": {
        "id": "ojelHX4ZxM7G"
      },
      "source": [
        "submission = pd.read_csv(DIR_PATH+'sample_submission.csv')\n",
        "#submission"
      ],
      "execution_count": null,
      "outputs": []
    },
    {
      "cell_type": "code",
      "metadata": {
        "id": "tZibrbM8xuwO"
      },
      "source": [
        "submission_final = submission.loc[:, ['month']].copy()\n",
        "submission_final = pd.concat([submission_final, (pd.DataFrame(results_final.reshape([24,-1])))], axis=1)\n",
        "submission_final.columns = submission.columns"
      ],
      "execution_count": null,
      "outputs": []
    },
    {
      "cell_type": "code",
      "metadata": {
        "id": "uTFVFXjx1tWN"
      },
      "source": [
        "file_path =  SUBMISSION_PATH + \"Ensenble20210411\" + \".csv\"\n",
        "submission_final.to_csv(file_path, index=False, header=True)"
      ],
      "execution_count": null,
      "outputs": []
    },
    {
      "cell_type": "code",
      "metadata": {
        "id": "ChWrIO7xM6MQ"
      },
      "source": [
        "results_final = results_final.astype(int)\n",
        "results_final = results_final.reshape(24, 448, 304)"
      ],
      "execution_count": null,
      "outputs": []
    },
    {
      "cell_type": "code",
      "metadata": {
        "id": "heSrizCg11fO"
      },
      "source": [
        "for m in range(12):\n",
        "    print(m+1, 'month', '\\n')\n",
        "    plt.figure(figsize = (10,5))\n",
        "    plt.imshow(results_final[m])\n",
        "    plt.show()\n",
        "    plt.figure(figsize = (10,5))\n",
        "    plt.imshow(results_final[m+12])\n",
        "    plt.show()"
      ],
      "execution_count": null,
      "outputs": []
    },
    {
      "cell_type": "code",
      "metadata": {
        "id": "1V99azvT2std"
      },
      "source": [
        ""
      ],
      "execution_count": null,
      "outputs": []
    }
  ]
}